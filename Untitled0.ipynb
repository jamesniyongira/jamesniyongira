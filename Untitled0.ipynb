{
  "nbformat": 4,
  "nbformat_minor": 0,
  "metadata": {
    "colab": {
      "provenance": [],
      "authorship_tag": "ABX9TyO3nmRRTmJMCTypCmZ7Csc1",
      "include_colab_link": true
    },
    "kernelspec": {
      "name": "python3",
      "display_name": "Python 3"
    },
    "language_info": {
      "name": "python"
    }
  },
  "cells": [
    {
      "cell_type": "markdown",
      "metadata": {
        "id": "view-in-github",
        "colab_type": "text"
      },
      "source": [
        "<a href=\"https://colab.research.google.com/github/jamesniyongira/jamesniyongira/blob/main/Untitled0.ipynb\" target=\"_parent\"><img src=\"https://colab.research.google.com/assets/colab-badge.svg\" alt=\"Open In Colab\"/></a>"
      ]
    },
    {
      "cell_type": "code",
      "execution_count": 11,
      "metadata": {
        "colab": {
          "base_uri": "https://localhost:8080/"
        },
        "id": "I5Nv3vAnbpNP",
        "outputId": "c3113c98-e894-42fd-e2de-31df1a7c1818"
      },
      "outputs": [
        {
          "output_type": "stream",
          "name": "stdout",
          "text": [
            "Hello world\n"
          ]
        },
        {
          "output_type": "execute_result",
          "data": {
            "text/plain": [
              "10"
            ]
          },
          "metadata": {},
          "execution_count": 11
        }
      ],
      "source": [
        "#printing Helloworld\n",
        "print(\"Hello world\")\n",
        "#Addition of numbers \n",
        "5+5"
      ]
    },
    {
      "cell_type": "code",
      "source": [
        "name=(\"james\")\n",
        "print(name)"
      ],
      "metadata": {
        "colab": {
          "base_uri": "https://localhost:8080/"
        },
        "id": "l8nSL279fzeL",
        "outputId": "b1e949df-b15b-423f-ca26-352d38a66c7e"
      },
      "execution_count": 12,
      "outputs": [
        {
          "output_type": "stream",
          "name": "stdout",
          "text": [
            "james\n"
          ]
        }
      ]
    },
    {
      "cell_type": "code",
      "source": [
        "fruit1,fruit2,fruit3=\"orange\",\"banana\",\"cherry\"\n",
        "print(fruit1)\n",
        "print(fruit2)\n",
        "print(fruit3)\n",
        "x=3\n",
        "y=4\n",
        "z=5\n",
        "m=5\n",
        "print(z!=m)\n",
        "print(y**3)\n",
        "print(z>=m)\n",
        "print(z<=y)\n",
        "print(x==z)"
      ],
      "metadata": {
        "colab": {
          "base_uri": "https://localhost:8080/"
        },
        "id": "Y3Yx4pE3hID9",
        "outputId": "53ad9bd5-9240-4ce1-a30e-06e190c33048"
      },
      "execution_count": 1,
      "outputs": [
        {
          "output_type": "stream",
          "name": "stdout",
          "text": [
            "orange\n",
            "banana\n",
            "cherry\n",
            "False\n",
            "64\n",
            "True\n",
            "False\n",
            "False\n"
          ]
        }
      ]
    },
    {
      "cell_type": "code",
      "source": [
        "countries=[\"Rwanda\",\"Uganda\",\"Tanzania\",\"Kenya\"]\n",
        "'Rwanda'>'Uganda'\n",
        "\n",
        "\n"
      ],
      "metadata": {
        "colab": {
          "base_uri": "https://localhost:8080/"
        },
        "id": "n9uDsEz4lSpY",
        "outputId": "daa159a3-6c6d-4fc8-ae2b-88c0bda07297"
      },
      "execution_count": 26,
      "outputs": [
        {
          "output_type": "execute_result",
          "data": {
            "text/plain": [
              "False"
            ]
          },
          "metadata": {},
          "execution_count": 26
        }
      ]
    },
    {
      "cell_type": "code",
      "source": [
        "list1=[\"student\",\"Teachers\",\"Employers\",\"Employees\"]\n",
        "print(list1[2])\n",
        "print(list1[-1])\n",
        "print(list1[0:3])\n",
        "print(len(list1))\n",
        "print(list1[-1])\n",
        "list1.remove('Teachers')\n",
        "print(list1)\n",
        "list1.insert(1,\"Human Resource\")\n",
        "print(list1)\n",
        "list1.append(\"Security officer\")\n",
        "print(list1)\n",
        "thistuple=[\"student\",\"Teachers\",\"Employers\",\"Employees\"]\n",
        "print(thistuple)"
      ],
      "metadata": {
        "colab": {
          "base_uri": "https://localhost:8080/"
        },
        "id": "VUQy-1TNueyY",
        "outputId": "2e4872b3-9a48-4f69-bddc-56a4560b7d7a"
      },
      "execution_count": 58,
      "outputs": [
        {
          "output_type": "stream",
          "name": "stdout",
          "text": [
            "Employers\n",
            "Employees\n",
            "['student', 'Teachers', 'Employers']\n",
            "4\n",
            "Employees\n",
            "['student', 'Employers', 'Employees']\n",
            "['student', 'Human Resource', 'Employers', 'Employees']\n",
            "['student', 'Human Resource', 'Employers', 'Employees', 'Security officer']\n",
            "['student', 'Teachers', 'Employers', 'Employees']\n"
          ]
        }
      ]
    },
    {
      "cell_type": "code",
      "source": [
        "thisset={\"apple\",\"banana\",\"chery\"}\n",
        "print(thisset)\n",
        "thisset.add(\"orange\")\n",
        "print(thisset)"
      ],
      "metadata": {
        "colab": {
          "base_uri": "https://localhost:8080/"
        },
        "id": "WCMnmWcR4tCk",
        "outputId": "939c9ae6-defb-406f-a1e0-927c2d661467"
      },
      "execution_count": 60,
      "outputs": [
        {
          "output_type": "stream",
          "name": "stdout",
          "text": [
            "{'chery', 'banana', 'apple'}\n",
            "{'orange', 'chery', 'banana', 'apple'}\n"
          ]
        }
      ]
    },
    {
      "cell_type": "code",
      "source": [
        "thisdictionary={\"name\":\"James\",\"id\":\"123\",\"country\":\"Rwanda\"}\n",
        "print(thisdictionary)\n",
        "thisdictionary.copy\n",
        "print(thisdictionary)"
      ],
      "metadata": {
        "colab": {
          "base_uri": "https://localhost:8080/"
        },
        "id": "kfwAKu_258Jc",
        "outputId": "e9f400aa-abb4-4ad5-d81b-c0acf45aebe6"
      },
      "execution_count": 7,
      "outputs": [
        {
          "output_type": "stream",
          "name": "stdout",
          "text": [
            "{'name': 'James', 'id': '123', 'country': 'Rwanda'}\n",
            "{'name': 'James', 'id': '123', 'country': 'Rwanda'}\n"
          ]
        }
      ]
    },
    {
      "cell_type": "code",
      "source": [],
      "metadata": {
        "id": "ceQU2q6ajnsf"
      },
      "execution_count": null,
      "outputs": []
    },
    {
      "cell_type": "code",
      "source": [
        "#Variables\n",
        "name=\"James\"\n",
        "balance=\"123000\"\n",
        "response=\"True\"\n",
        "print(response)\n",
        "\n",
        "#tuples\n",
        "thistuple=(\"Esther\",\"John\",\"James\",\"Joan\")\n",
        "print(thistuple)\n",
        "\n"
      ],
      "metadata": {
        "colab": {
          "base_uri": "https://localhost:8080/"
        },
        "id": "MRGLelxPhoO7",
        "outputId": "03893eb6-a264-4189-b208-91951d91285a"
      },
      "execution_count": 5,
      "outputs": [
        {
          "output_type": "stream",
          "name": "stdout",
          "text": [
            "True\n",
            "('Esther', 'John', 'James', 'Joan')\n"
          ]
        }
      ]
    },
    {
      "cell_type": "code",
      "source": [
        "#conditinals \n",
        "age=18\n",
        "if age < 18:\n",
        "  print(\"You're not allowed o enter this region\")\n",
        "else:\n",
        "  print(\"Enter the region now\")"
      ],
      "metadata": {
        "colab": {
          "base_uri": "https://localhost:8080/"
        },
        "id": "Y1l5pFUej1i8",
        "outputId": "960b6604-99a0-42f2-81c4-005bae27d21f"
      },
      "execution_count": 16,
      "outputs": [
        {
          "output_type": "stream",
          "name": "stdout",
          "text": [
            "Enter the region now\n"
          ]
        }
      ]
    },
    {
      "cell_type": "code",
      "source": [
        "grade=40\n",
        "if grade==90:\n",
        "  print(\"A-\")\n",
        "elif grade>90:\n",
        "  print(\"A+\")\n",
        "elif grade<=90:\n",
        "  print(\"You can double the effort\")\n",
        "else:\n",
        "  print(\"Youre' not eligible for this course\")"
      ],
      "metadata": {
        "colab": {
          "base_uri": "https://localhost:8080/"
        },
        "id": "nQYNjRz6l8vo",
        "outputId": "10701ecc-10a8-46f7-a74d-89777921965c"
      },
      "execution_count": 22,
      "outputs": [
        {
          "output_type": "stream",
          "name": "stdout",
          "text": [
            "You can double the effort\n"
          ]
        }
      ]
    },
    {
      "cell_type": "code",
      "source": [
        "#loops\n",
        "#while and for loop\n",
        "#for loop\n",
        "numbers=[1,2,3,4,5]\n",
        "for i in numbers:\n",
        "  print(i)\n",
        "  \n",
        "  \n"
      ],
      "metadata": {
        "colab": {
          "base_uri": "https://localhost:8080/"
        },
        "id": "wz4w9Y7YoVFh",
        "outputId": "0c8afe87-40d3-44f4-aedc-8d65d27f2c7c"
      },
      "execution_count": 25,
      "outputs": [
        {
          "output_type": "stream",
          "name": "stdout",
          "text": [
            "1\n",
            "2\n",
            "3\n",
            "4\n",
            "5\n"
          ]
        }
      ]
    },
    {
      "cell_type": "code",
      "source": [
        "#while loop\n",
        "count=0\n",
        "while count<100:\n",
        "  print(count)\n",
        "  count=count+1\n",
        "  if(count==10):\n",
        "   break\n",
        "  "
      ],
      "metadata": {
        "colab": {
          "base_uri": "https://localhost:8080/"
        },
        "id": "pHJm6wedpgnu",
        "outputId": "0321988e-e29c-43d5-95ba-f26cff37d673"
      },
      "execution_count": 34,
      "outputs": [
        {
          "output_type": "stream",
          "name": "stdout",
          "text": [
            "0\n",
            "1\n",
            "2\n",
            "3\n",
            "4\n",
            "5\n",
            "6\n",
            "7\n",
            "8\n",
            "9\n"
          ]
        }
      ]
    }
  ]
}