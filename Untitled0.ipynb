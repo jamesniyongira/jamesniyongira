{
  "nbformat": 4,
  "nbformat_minor": 0,
  "metadata": {
    "colab": {
      "provenance": [],
      "authorship_tag": "ABX9TyOlHtGUxJEpGlOgQ6Z8ZD57",
      "include_colab_link": true
    },
    "kernelspec": {
      "name": "python3",
      "display_name": "Python 3"
    },
    "language_info": {
      "name": "python"
    }
  },
  "cells": [
    {
      "cell_type": "markdown",
      "metadata": {
        "id": "view-in-github",
        "colab_type": "text"
      },
      "source": [
        "<a href=\"https://colab.research.google.com/github/jamesniyongira/jamesniyongira/blob/main/Untitled0.ipynb\" target=\"_parent\"><img src=\"https://colab.research.google.com/assets/colab-badge.svg\" alt=\"Open In Colab\"/></a>"
      ]
    },
    {
      "cell_type": "code",
      "execution_count": 11,
      "metadata": {
        "colab": {
          "base_uri": "https://localhost:8080/"
        },
        "id": "I5Nv3vAnbpNP",
        "outputId": "c3113c98-e894-42fd-e2de-31df1a7c1818"
      },
      "outputs": [
        {
          "output_type": "stream",
          "name": "stdout",
          "text": [
            "Hello world\n"
          ]
        },
        {
          "output_type": "execute_result",
          "data": {
            "text/plain": [
              "10"
            ]
          },
          "metadata": {},
          "execution_count": 11
        }
      ],
      "source": [
        "#printing Helloworld\n",
        "print(\"Hello world\")\n",
        "#Addition of numbers \n",
        "5+5"
      ]
    },
    {
      "cell_type": "code",
      "source": [
        "name=(\"james\")\n",
        "print(name)"
      ],
      "metadata": {
        "colab": {
          "base_uri": "https://localhost:8080/"
        },
        "id": "l8nSL279fzeL",
        "outputId": "b1e949df-b15b-423f-ca26-352d38a66c7e"
      },
      "execution_count": 12,
      "outputs": [
        {
          "output_type": "stream",
          "name": "stdout",
          "text": [
            "james\n"
          ]
        }
      ]
    },
    {
      "cell_type": "code",
      "source": [
        "fruit1,fruit2,fruit3=\"orange\",\"banana\",\"cherry\"\n",
        "print(fruit1)\n",
        "print(fruit2)\n",
        "print(fruit3)\n",
        "x=3\n",
        "y=4\n",
        "z=5\n",
        "m=5\n",
        "z!=m\n",
        "y**3\n"
      ],
      "metadata": {
        "colab": {
          "base_uri": "https://localhost:8080/"
        },
        "id": "Y3Yx4pE3hID9",
        "outputId": "b2121174-ac2c-4bc4-8480-23834ec05140"
      },
      "execution_count": 16,
      "outputs": [
        {
          "output_type": "stream",
          "name": "stdout",
          "text": [
            "orange\n",
            "banana\n",
            "cherry\n"
          ]
        },
        {
          "output_type": "execute_result",
          "data": {
            "text/plain": [
              "64"
            ]
          },
          "metadata": {},
          "execution_count": 16
        }
      ]
    },
    {
      "cell_type": "code",
      "source": [],
      "metadata": {
        "id": "n9uDsEz4lSpY"
      },
      "execution_count": null,
      "outputs": []
    }
  ]
}